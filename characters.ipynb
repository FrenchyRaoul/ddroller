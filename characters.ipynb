{
 "cells": [
  {
   "cell_type": "code",
   "execution_count": 57,
   "metadata": {},
   "outputs": [],
   "source": [
    "import pandas as pd"
   ]
  },
  {
   "cell_type": "code",
   "execution_count": 68,
   "metadata": {},
   "outputs": [],
   "source": [
    "table = pd.read_csv(r\"C:\\Users\\Nicholai\\Desktop\\t.csv\", delimiter=\" \")"
   ]
  },
  {
   "cell_type": "code",
   "execution_count": 74,
   "metadata": {},
   "outputs": [
    {
     "data": {
      "text/html": [
       "<div>\n",
       "<style scoped>\n",
       "    .dataframe tbody tr th:only-of-type {\n",
       "        vertical-align: middle;\n",
       "    }\n",
       "\n",
       "    .dataframe tbody tr th {\n",
       "        vertical-align: top;\n",
       "    }\n",
       "\n",
       "    .dataframe thead th {\n",
       "        text-align: right;\n",
       "    }\n",
       "</style>\n",
       "<table border=\"1\" class=\"dataframe\">\n",
       "  <thead>\n",
       "    <tr style=\"text-align: right;\">\n",
       "      <th></th>\n",
       "      <th>a</th>\n",
       "      <th>e</th>\n",
       "    </tr>\n",
       "  </thead>\n",
       "  <tbody>\n",
       "    <tr>\n",
       "      <th>0</th>\n",
       "      <td>123</td>\n",
       "      <td>4</td>\n",
       "    </tr>\n",
       "    <tr>\n",
       "      <th>1</th>\n",
       "      <td>1</td>\n",
       "      <td>d</td>\n",
       "    </tr>\n",
       "    <tr>\n",
       "      <th>2</th>\n",
       "      <td>123</td>\n",
       "      <td>e</td>\n",
       "    </tr>\n",
       "    <tr>\n",
       "      <th>3</th>\n",
       "      <td>4</td>\n",
       "      <td>1</td>\n",
       "    </tr>\n",
       "    <tr>\n",
       "      <th>4</th>\n",
       "      <td>1</td>\n",
       "      <td>2</td>\n",
       "    </tr>\n",
       "    <tr>\n",
       "      <th>5</th>\n",
       "      <td>4</td>\n",
       "      <td>3</td>\n",
       "    </tr>\n",
       "    <tr>\n",
       "      <th>6</th>\n",
       "      <td>12</td>\n",
       "      <td>d</td>\n",
       "    </tr>\n",
       "    <tr>\n",
       "      <th>7</th>\n",
       "      <td>21</td>\n",
       "      <td>sd</td>\n",
       "    </tr>\n",
       "  </tbody>\n",
       "</table>\n",
       "</div>"
      ],
      "text/plain": [
       "     a   e\n",
       "0  123   4\n",
       "1    1   d\n",
       "2  123   e\n",
       "3    4   1\n",
       "4    1   2\n",
       "5    4   3\n",
       "6   12   d\n",
       "7   21  sd"
      ]
     },
     "execution_count": 74,
     "metadata": {},
     "output_type": "execute_result"
    }
   ],
   "source": [
    "table[['a', 'e']]"
   ]
  },
  {
   "cell_type": "code",
   "execution_count": 70,
   "metadata": {},
   "outputs": [
    {
     "data": {
      "text/plain": [
       "0    123\n",
       "1      1\n",
       "2    123\n",
       "3      4\n",
       "4      1\n",
       "5      4\n",
       "6     12\n",
       "7     21\n",
       "Name: a, dtype: int64"
      ]
     },
     "execution_count": 70,
     "metadata": {},
     "output_type": "execute_result"
    }
   ],
   "source": [
    "table.a"
   ]
  },
  {
   "cell_type": "code",
   "execution_count": 71,
   "metadata": {},
   "outputs": [],
   "source": [
    "table['new'] = table.a + table.b"
   ]
  },
  {
   "cell_type": "code",
   "execution_count": 72,
   "metadata": {},
   "outputs": [
    {
     "data": {
      "text/html": [
       "<div>\n",
       "<style scoped>\n",
       "    .dataframe tbody tr th:only-of-type {\n",
       "        vertical-align: middle;\n",
       "    }\n",
       "\n",
       "    .dataframe tbody tr th {\n",
       "        vertical-align: top;\n",
       "    }\n",
       "\n",
       "    .dataframe thead th {\n",
       "        text-align: right;\n",
       "    }\n",
       "</style>\n",
       "<table border=\"1\" class=\"dataframe\">\n",
       "  <thead>\n",
       "    <tr style=\"text-align: right;\">\n",
       "      <th></th>\n",
       "      <th>a</th>\n",
       "      <th>b</th>\n",
       "      <th>c</th>\n",
       "      <th>d</th>\n",
       "      <th>e</th>\n",
       "      <th>new</th>\n",
       "    </tr>\n",
       "  </thead>\n",
       "  <tbody>\n",
       "    <tr>\n",
       "      <th>0</th>\n",
       "      <td>123</td>\n",
       "      <td>2</td>\n",
       "      <td>34</td>\n",
       "      <td>41</td>\n",
       "      <td>4</td>\n",
       "      <td>125</td>\n",
       "    </tr>\n",
       "    <tr>\n",
       "      <th>1</th>\n",
       "      <td>1</td>\n",
       "      <td>123</td>\n",
       "      <td>23</td>\n",
       "      <td>12</td>\n",
       "      <td>d</td>\n",
       "      <td>124</td>\n",
       "    </tr>\n",
       "    <tr>\n",
       "      <th>2</th>\n",
       "      <td>123</td>\n",
       "      <td>1</td>\n",
       "      <td>123</td>\n",
       "      <td>f</td>\n",
       "      <td>e</td>\n",
       "      <td>124</td>\n",
       "    </tr>\n",
       "    <tr>\n",
       "      <th>3</th>\n",
       "      <td>4</td>\n",
       "      <td>123</td>\n",
       "      <td>123</td>\n",
       "      <td>123</td>\n",
       "      <td>1</td>\n",
       "      <td>127</td>\n",
       "    </tr>\n",
       "    <tr>\n",
       "      <th>4</th>\n",
       "      <td>1</td>\n",
       "      <td>23</td>\n",
       "      <td>123</td>\n",
       "      <td>3</td>\n",
       "      <td>2</td>\n",
       "      <td>24</td>\n",
       "    </tr>\n",
       "    <tr>\n",
       "      <th>5</th>\n",
       "      <td>4</td>\n",
       "      <td>23</td>\n",
       "      <td>3</td>\n",
       "      <td>2</td>\n",
       "      <td>3</td>\n",
       "      <td>27</td>\n",
       "    </tr>\n",
       "    <tr>\n",
       "      <th>6</th>\n",
       "      <td>12</td>\n",
       "      <td>3</td>\n",
       "      <td>1</td>\n",
       "      <td>df</td>\n",
       "      <td>d</td>\n",
       "      <td>15</td>\n",
       "    </tr>\n",
       "    <tr>\n",
       "      <th>7</th>\n",
       "      <td>21</td>\n",
       "      <td>1</td>\n",
       "      <td>23</td>\n",
       "      <td>1</td>\n",
       "      <td>sd</td>\n",
       "      <td>22</td>\n",
       "    </tr>\n",
       "  </tbody>\n",
       "</table>\n",
       "</div>"
      ],
      "text/plain": [
       "     a    b    c    d   e  new\n",
       "0  123    2   34   41   4  125\n",
       "1    1  123   23   12   d  124\n",
       "2  123    1  123    f   e  124\n",
       "3    4  123  123  123   1  127\n",
       "4    1   23  123    3   2   24\n",
       "5    4   23    3    2   3   27\n",
       "6   12    3    1   df   d   15\n",
       "7   21    1   23    1  sd   22"
      ]
     },
     "execution_count": 72,
     "metadata": {},
     "output_type": "execute_result"
    }
   ],
   "source": [
    "table"
   ]
  },
  {
   "cell_type": "code",
   "execution_count": 73,
   "metadata": {},
   "outputs": [],
   "source": [
    "table.to_csv('new.csv')"
   ]
  },
  {
   "cell_type": "code",
   "execution_count": null,
   "metadata": {},
   "outputs": [],
   "source": []
  },
  {
   "cell_type": "code",
   "execution_count": null,
   "metadata": {},
   "outputs": [],
   "source": []
  },
  {
   "cell_type": "code",
   "execution_count": 20,
   "metadata": {},
   "outputs": [],
   "source": [
    "import re\n",
    "ROLL_REGEX = re.compile(r'!roll\\s\\w{4}') \n",
    "for a in range(50):\n",
    "    for b in (1,2,3,4, 'a', 'b', 5, 6):\n",
    "        try: \n",
    "            int(b)\n",
    "        except ValueError:\n",
    "            break"
   ]
  },
  {
   "cell_type": "code",
   "execution_count": 21,
   "metadata": {},
   "outputs": [
    {
     "data": {
      "text/plain": [
       "'a'"
      ]
     },
     "execution_count": 21,
     "metadata": {},
     "output_type": "execute_result"
    }
   ],
   "source": [
    "b"
   ]
  },
  {
   "cell_type": "code",
   "execution_count": null,
   "metadata": {},
   "outputs": [],
   "source": []
  },
  {
   "cell_type": "code",
   "execution_count": null,
   "metadata": {},
   "outputs": [],
   "source": []
  },
  {
   "cell_type": "code",
   "execution_count": null,
   "metadata": {},
   "outputs": [],
   "source": []
  },
  {
   "cell_type": "code",
   "execution_count": 19,
   "metadata": {},
   "outputs": [
    {
     "data": {
      "text/plain": [
       "'5'"
      ]
     },
     "execution_count": 19,
     "metadata": {},
     "output_type": "execute_result"
    }
   ],
   "source": [
    "_['d']"
   ]
  },
  {
   "cell_type": "code",
   "execution_count": null,
   "metadata": {},
   "outputs": [],
   "source": []
  },
  {
   "cell_type": "code",
   "execution_count": null,
   "metadata": {},
   "outputs": [],
   "source": []
  },
  {
   "cell_type": "code",
   "execution_count": 14,
   "metadata": {},
   "outputs": [],
   "source": [
    "from typing import Set, Dict, Tuple, Union, List\n",
    "from dataclasses import dataclass, field, asdict"
   ]
  },
  {
   "cell_type": "code",
   "execution_count": 15,
   "metadata": {},
   "outputs": [],
   "source": [
    "SKILL = {\"athletics\": \"strength\",\n",
    "          \"acrobatics\": \"dexterity\",\n",
    "          \"sleight_of_hand\": \"dexterity\",\n",
    "          \"stealth\": \"dexterity\",\n",
    "          \"arcana\": \"intelligence\",\n",
    "          \"history\": \"intelligence\",\n",
    "          \"investigation\": \"intelligence\",\n",
    "          \"nature\": \"intelligence\",\n",
    "          \"religion\": \"intelligence\",\n",
    "          \"animal_handling\": \"wisdom\",\n",
    "          \"insight\": \"wisdom\",\n",
    "          \"medicine\": \"wisdom\",\n",
    "          \"perception\": \"wisdom\",\n",
    "          \"survival\": \"wisdom\",\n",
    "          \"deception\": \"charisma\",\n",
    "          \"intimidation\": \"charisma\",\n",
    "          \"performance\": \"charisma\",\n",
    "          \"persuasion\": \"charisma\"\n",
    "         }"
   ]
  },
  {
   "cell_type": "code",
   "execution_count": 16,
   "metadata": {},
   "outputs": [
    {
     "data": {
      "text/plain": [
       "True"
      ]
     },
     "execution_count": 16,
     "metadata": {},
     "output_type": "execute_result"
    }
   ],
   "source": [
    "'wisdom' in SKILL.values()"
   ]
  },
  {
   "cell_type": "code",
   "execution_count": 36,
   "metadata": {},
   "outputs": [],
   "source": [
    "for key, item in sorted(SKILL.items(), key=lambda tup: tup[1], reverse=True):\n",
    "    pass"
   ]
  },
  {
   "cell_type": "code",
   "execution_count": 37,
   "metadata": {},
   "outputs": [
    {
     "data": {
      "text/plain": [
       "('persuasion', 'charisma')"
      ]
     },
     "execution_count": 37,
     "metadata": {},
     "output_type": "execute_result"
    }
   ],
   "source": [
    "key, item"
   ]
  },
  {
   "cell_type": "code",
   "execution_count": 28,
   "metadata": {},
   "outputs": [],
   "source": [
    "for value in SKILL.values():\n",
    "    pass"
   ]
  },
  {
   "cell_type": "code",
   "execution_count": 29,
   "metadata": {},
   "outputs": [
    {
     "data": {
      "text/plain": [
       "'charisma'"
      ]
     },
     "execution_count": 29,
     "metadata": {},
     "output_type": "execute_result"
    }
   ],
   "source": [
    "value"
   ]
  },
  {
   "cell_type": "code",
   "execution_count": null,
   "metadata": {},
   "outputs": [],
   "source": []
  },
  {
   "cell_type": "code",
   "execution_count": 53,
   "metadata": {},
   "outputs": [],
   "source": [
    "class Test:\n",
    "    \n",
    "    def __init__(self, name, level):\n",
    "        self.name = name\n",
    "        self.level = level\n",
    "        \n",
    "    def __str__(self):\n",
    "        return \"WOWOWOOHFOIDCNOIS\""
   ]
  },
  {
   "cell_type": "code",
   "execution_count": 54,
   "metadata": {},
   "outputs": [],
   "source": [
    "t = Test(5,4)"
   ]
  },
  {
   "cell_type": "code",
   "execution_count": 55,
   "metadata": {},
   "outputs": [
    {
     "data": {
      "text/plain": [
       "'WOWOWOOHFOIDCNOIS'"
      ]
     },
     "execution_count": 55,
     "metadata": {},
     "output_type": "execute_result"
    }
   ],
   "source": [
    "str(t)"
   ]
  },
  {
   "cell_type": "code",
   "execution_count": null,
   "metadata": {},
   "outputs": [],
   "source": []
  },
  {
   "cell_type": "code",
   "execution_count": null,
   "metadata": {},
   "outputs": [],
   "source": []
  },
  {
   "cell_type": "code",
   "execution_count": null,
   "metadata": {},
   "outputs": [],
   "source": []
  },
  {
   "cell_type": "code",
   "execution_count": null,
   "metadata": {},
   "outputs": [],
   "source": []
  },
  {
   "cell_type": "code",
   "execution_count": 41,
   "metadata": {},
   "outputs": [
    {
     "data": {
      "text/plain": [
       "5"
      ]
     },
     "execution_count": 41,
     "metadata": {},
     "output_type": "execute_result"
    }
   ],
   "source": [
    "t.aaaaaA"
   ]
  },
  {
   "cell_type": "code",
   "execution_count": 48,
   "metadata": {},
   "outputs": [
    {
     "data": {
      "text/plain": [
       "5"
      ]
     },
     "execution_count": 48,
     "metadata": {},
     "output_type": "execute_result"
    }
   ],
   "source": [
    "(5).__hash__()"
   ]
  },
  {
   "cell_type": "code",
   "execution_count": 49,
   "metadata": {},
   "outputs": [
    {
     "data": {
      "text/plain": [
       "4"
      ]
     },
     "execution_count": 49,
     "metadata": {},
     "output_type": "execute_result"
    }
   ],
   "source": [
    "len([1,2,3,4])"
   ]
  },
  {
   "cell_type": "code",
   "execution_count": null,
   "metadata": {},
   "outputs": [],
   "source": [
    "list.__len__"
   ]
  },
  {
   "cell_type": "code",
   "execution_count": null,
   "metadata": {},
   "outputs": [],
   "source": []
  },
  {
   "cell_type": "code",
   "execution_count": null,
   "metadata": {},
   "outputs": [],
   "source": [
    "Charachera == Characterb"
   ]
  },
  {
   "cell_type": "code",
   "execution_count": null,
   "metadata": {},
   "outputs": [],
   "source": []
  },
  {
   "cell_type": "code",
   "execution_count": 46,
   "metadata": {},
   "outputs": [],
   "source": [
    "@dataclass\n",
    "class Class():\n",
    "    name: str\n",
    "    level: int\n",
    "        \n",
    "    # disallows duplicate classes in a set\n",
    "    def __hash__(self):\n",
    "        return hash(self.name)"
   ]
  },
  {
   "cell_type": "code",
   "execution_count": 47,
   "metadata": {},
   "outputs": [],
   "source": [
    "@dataclass\n",
    "class Character():\n",
    "    name: str\n",
    "    race: str\n",
    "    strength: int\n",
    "    dexterity: int\n",
    "    constitution: int\n",
    "    intelligence: int\n",
    "    wisdom: int\n",
    "    charisma: int\n",
    "    proficiencies: Set[str] = field(default_factory=set)\n",
    "    skill_modifiers: Dict[str, Tuple[str, int]] = field(default_factory=dict)\n",
    "    classes: Set[Class] = field(default_factory=set)\n",
    "        \n",
    "    def __eq__(self, other):\n",
    "        if isinstance(other, Character):\n",
    "            return (self.name == other.name)\n",
    "        return False\n",
    "        \n",
    "    @property\n",
    "    def level(self):\n",
    "        total_level = sum(cls.level for cls in self.classes)\n",
    "        return total_level or 1\n",
    "    \n",
    "    @property\n",
    "    def proficiency(self):\n",
    "        return (self.level + 3) // 4 + 1\n",
    "    \n",
    "    def add_proficiency(self, skill: str):\n",
    "        self.proficiencies.add(skill)\n",
    "        \n",
    "    def add_class(self, cls: Class):\n",
    "        if not isinstance(cls, Class):\n",
    "            raise Exception('can only add Class objects')\n",
    "        self.classes.add(cls)\n",
    "    \n",
    "    def get_modifier(self, skill_or_attribute: str):\n",
    "        if (skill := getattr(self, skill_or_attribute, None)) is not None:\n",
    "            return (skill - 10) // 2\n",
    "        \n",
    "        attr = SKILL.get(skill_or_attribute)\n",
    "        base_mod = (getattr(self, attr) - 10) // 2\n",
    "        \n",
    "        prof_mod = 0 if skill_or_attribute not in self.proficiencies else self.proficiency\n",
    "        \n",
    "        return base_mod + prof_mod"
   ]
  },
  {
   "cell_type": "code",
   "execution_count": 73,
   "metadata": {},
   "outputs": [],
   "source": [
    "thoros = Character(\"Thoros\", \"Human\", 9, 12, 16, 20, 10, 9)"
   ]
  },
  {
   "cell_type": "code",
   "execution_count": 74,
   "metadata": {},
   "outputs": [],
   "source": [
    "thoros.add_proficiency('arcana')\n",
    "thoros.add_proficiency('religion')\n",
    "thoros.add_proficiency('history')\n",
    "thoros.add_proficiency('nature')"
   ]
  },
  {
   "cell_type": "code",
   "execution_count": 75,
   "metadata": {},
   "outputs": [],
   "source": [
    "thoros.add_class(Class('wizard', 5))"
   ]
  },
  {
   "cell_type": "code",
   "execution_count": 76,
   "metadata": {},
   "outputs": [
    {
     "data": {
      "text/plain": [
       "8"
      ]
     },
     "execution_count": 76,
     "metadata": {},
     "output_type": "execute_result"
    }
   ],
   "source": [
    "thoros.get_modifier('arcana')"
   ]
  },
  {
   "cell_type": "code",
   "execution_count": 77,
   "metadata": {},
   "outputs": [
    {
     "data": {
      "text/plain": [
       "Character(name='Thoros', race='Human', strength=9, dexterity=12, constitution=16, intelligence=20, wisdom=10, charisma=9, proficiencies={'nature', 'religion', 'arcana', 'history'}, skill_modifiers={}, classes={Class(name='wizard', level=5)})"
      ]
     },
     "execution_count": 77,
     "metadata": {},
     "output_type": "execute_result"
    }
   ],
   "source": [
    "thoros"
   ]
  },
  {
   "cell_type": "code",
   "execution_count": null,
   "metadata": {},
   "outputs": [],
   "source": []
  },
  {
   "cell_type": "code",
   "execution_count": null,
   "metadata": {},
   "outputs": [],
   "source": []
  },
  {
   "cell_type": "code",
   "execution_count": 78,
   "metadata": {},
   "outputs": [],
   "source": [
    "dolfur = Character(\"Dolfur\", \"Dwarf\", 10, 10, 10, 10, 10, 10)"
   ]
  },
  {
   "cell_type": "code",
   "execution_count": 79,
   "metadata": {},
   "outputs": [],
   "source": [
    "Owner = str\n",
    "CharacterName = str\n",
    "\n",
    "@dataclass\n",
    "class Rolodex():\n",
    "    owners: Dict[CharacterName, Set[Owner]] = field(default_factory=dict)\n",
    "    characters: Dict[CharacterName, Character] = field(default_factory=dict)\n",
    "        \n",
    "    def add_character(self, owners: Union[Owner, List[Owner]], character: Character):\n",
    "        if character.name in self.characters:\n",
    "            raise Exception(\"character is already in rolodex!\")\n",
    "        if len(owners) == 0:\n",
    "            raise Exception(\"someone must own the character\")\n",
    "        if isinstance(owners, str):\n",
    "            owners = [owners]\n",
    "        self.characters[character.name.lower()] = character\n",
    "        self.owners[character.name.lower()] = owners\n",
    "        \n",
    "    def get_character(self, user: str, character_name: str):\n",
    "        character_name = character_name.lower()\n",
    "        if character_name not in self.characters:\n",
    "            raise Exception(\"there is no character by this name\")\n",
    "        if user not in self.owners[character_name]:\n",
    "            raise Exception(\"you cannot access this character\")\n",
    "        return self.characters[character_name]\n",
    "    \n",
    "    def store(self):\n",
    "        with open('characters.txt', 'w') as fout:\n",
    "            fout.write(str(self.__dict__))\n",
    "            \n",
    "    @staticmethod\n",
    "    def load():\n",
    "        with open('characters.txt', 'r') as fin:\n",
    "            rawdata = fin.read().strip()\n",
    "        if rawdata:\n",
    "            data = eval(rawdata)\n",
    "            return Rolodex(**data)\n",
    "        else:\n",
    "            return Rolodex()"
   ]
  },
  {
   "cell_type": "code",
   "execution_count": 80,
   "metadata": {},
   "outputs": [],
   "source": [
    "rd = Rolodex()"
   ]
  },
  {
   "cell_type": "code",
   "execution_count": 81,
   "metadata": {},
   "outputs": [],
   "source": [
    "rd.add_character(['FrenchyRaoul', 'Reconstruct'], thoros)"
   ]
  },
  {
   "cell_type": "code",
   "execution_count": 69,
   "metadata": {},
   "outputs": [],
   "source": [
    "rd.add_character('FrenchyRaoul', dolfur)"
   ]
  },
  {
   "cell_type": "code",
   "execution_count": 82,
   "metadata": {},
   "outputs": [],
   "source": [
    "rd.store()"
   ]
  },
  {
   "cell_type": "code",
   "execution_count": 83,
   "metadata": {},
   "outputs": [
    {
     "ename": "ValueError",
     "evalue": "invalid literal for int() with base 10: 'asdf'",
     "output_type": "error",
     "traceback": [
      "\u001b[1;31m---------------------------------------------------------------------------\u001b[0m",
      "\u001b[1;31mValueError\u001b[0m                                Traceback (most recent call last)",
      "\u001b[1;32m<ipython-input-83-1279a2e292ac>\u001b[0m in \u001b[0;36m<module>\u001b[1;34m\u001b[0m\n\u001b[1;32m----> 1\u001b[1;33m \u001b[0mint\u001b[0m\u001b[1;33m(\u001b[0m\u001b[1;34m'asdf'\u001b[0m\u001b[1;33m)\u001b[0m\u001b[1;33m\u001b[0m\u001b[1;33m\u001b[0m\u001b[0m\n\u001b[0m",
      "\u001b[1;31mValueError\u001b[0m: invalid literal for int() with base 10: 'asdf'"
     ]
    }
   ],
   "source": [
    "int('asdf')"
   ]
  },
  {
   "cell_type": "code",
   "execution_count": 84,
   "metadata": {},
   "outputs": [
    {
     "data": {
      "text/plain": [
       "3"
      ]
     },
     "execution_count": 84,
     "metadata": {},
     "output_type": "execute_result"
    }
   ],
   "source": [
    "int(3.4)"
   ]
  },
  {
   "cell_type": "code",
   "execution_count": 58,
   "metadata": {},
   "outputs": [],
   "source": [
    "d = \"\"\"{'owners': {'thoros': ['FrenchyRaoul'], 'dolfur': ['FrenchyRaoul']},\n",
    " 'characters': {'thoros': Character(name='Thoros', race='Human', strength=9, dexterity=12, constitution=16, intelligence=20, wisdom=10, charisma=9, proficiencies={'arcana'}, skill_modifiers={}, classes={Class(name='wizard', level=5)}),\n",
    "  'dolfur': Character(name='Dolfur', race='Dwarf', strength=10, dexterity=10, constitution=10, intelligence=10, wisdom=10, charisma=10, proficiencies=set(), skill_modifiers={}, classes=set())}}\"\"\""
   ]
  },
  {
   "cell_type": "code",
   "execution_count": 61,
   "metadata": {},
   "outputs": [],
   "source": [
    "r = Rolodex(**eval(d))"
   ]
  },
  {
   "cell_type": "code",
   "execution_count": 64,
   "metadata": {},
   "outputs": [
    {
     "data": {
      "text/plain": [
       "Character(name='Thoros', race='Human', strength=9, dexterity=12, constitution=16, intelligence=20, wisdom=10, charisma=9, proficiencies={'arcana'}, skill_modifiers={}, classes={Class(name='wizard', level=5)})"
      ]
     },
     "execution_count": 64,
     "metadata": {},
     "output_type": "execute_result"
    }
   ],
   "source": [
    "r.get_character('FrenchyRaoul', 'thoros')"
   ]
  },
  {
   "cell_type": "code",
   "execution_count": 87,
   "metadata": {},
   "outputs": [],
   "source": [
    "s = {1,2,3}"
   ]
  },
  {
   "cell_type": "code",
   "execution_count": 88,
   "metadata": {},
   "outputs": [],
   "source": [
    "s.remove(2)"
   ]
  },
  {
   "cell_type": "code",
   "execution_count": null,
   "metadata": {},
   "outputs": [],
   "source": []
  },
  {
   "cell_type": "code",
   "execution_count": 85,
   "metadata": {},
   "outputs": [
    {
     "ename": "NameError",
     "evalue": "name 'strength' is not defined",
     "output_type": "error",
     "traceback": [
      "\u001b[1;31m---------------------------------------------------------------------------\u001b[0m",
      "\u001b[1;31mNameError\u001b[0m                                 Traceback (most recent call last)",
      "\u001b[1;32m<ipython-input-85-0da3f12af2a1>\u001b[0m in \u001b[0;36m<module>\u001b[1;34m\u001b[0m\n\u001b[1;32m----> 1\u001b[1;33m \u001b[0mgetattr\u001b[0m\u001b[1;33m(\u001b[0m\u001b[0mthoros\u001b[0m\u001b[1;33m,\u001b[0m \u001b[0mstrength\u001b[0m\u001b[1;33m)\u001b[0m\u001b[1;33m\u001b[0m\u001b[1;33m\u001b[0m\u001b[0m\n\u001b[0m",
      "\u001b[1;31mNameError\u001b[0m: name 'strength' is not defined"
     ]
    }
   ],
   "source": [
    "getattr(thoros, strength)"
   ]
  },
  {
   "cell_type": "code",
   "execution_count": 86,
   "metadata": {},
   "outputs": [],
   "source": [
    "setattr(thoros, 'strength', 5)"
   ]
  },
  {
   "cell_type": "code",
   "execution_count": null,
   "metadata": {},
   "outputs": [],
   "source": []
  },
  {
   "cell_type": "code",
   "execution_count": 38,
   "metadata": {},
   "outputs": [
    {
     "data": {
      "text/plain": [
       "Character(name='Thoros', race='Human', strength=9, dexterity=12, constitution=16, intelligence=20, wisdom=10, charisma=9, proficiencies={'arcana'}, skill_modifiers={}, classes={Class(name='wizard', level=5)})"
      ]
     },
     "execution_count": 38,
     "metadata": {},
     "output_type": "execute_result"
    }
   ],
   "source": [
    "rd.get_character(\"FrenchyRaoul\", \"thoros\")"
   ]
  },
  {
   "cell_type": "code",
   "execution_count": 39,
   "metadata": {},
   "outputs": [],
   "source": [
    "import dataclasses"
   ]
  },
  {
   "cell_type": "code",
   "execution_count": 40,
   "metadata": {},
   "outputs": [
    {
     "data": {
      "text/plain": [
       "\"{'owners': {'thoros': ['FrenchyRaoul'], 'dolfur': ['FrenchyRaoul']}, 'characters': {'thoros': {'name': 'Thoros', 'race': 'Human', 'strength': 9, 'dexterity': 12, 'constitution': 16, 'intelligence': 20, 'wisdom': 10, 'charisma': 9, 'proficiencies': {'arcana'}, 'skill_modifiers': {}, 'classes': {Class(name='wizard', level=5)}}, 'dolfur': {'name': 'Dolfur', 'race': 'Dwarf', 'strength': 10, 'dexterity': 10, 'constitution': 10, 'intelligence': 10, 'wisdom': 10, 'charisma': 10, 'proficiencies': set(), 'skill_modifiers': {}, 'classes': set()}}}\""
      ]
     },
     "execution_count": 40,
     "metadata": {},
     "output_type": "execute_result"
    }
   ],
   "source": [
    "str(asdict(rd))"
   ]
  },
  {
   "cell_type": "code",
   "execution_count": 42,
   "metadata": {},
   "outputs": [
    {
     "data": {
      "text/plain": [
       "{'owners': {'thoros': ['FrenchyRaoul'], 'dolfur': ['FrenchyRaoul']},\n",
       " 'characters': {'thoros': Character(name='Thoros', race='Human', strength=9, dexterity=12, constitution=16, intelligence=20, wisdom=10, charisma=9, proficiencies={'arcana'}, skill_modifiers={}, classes={Class(name='wizard', level=5)}),\n",
       "  'dolfur': Character(name='Dolfur', race='Dwarf', strength=10, dexterity=10, constitution=10, intelligence=10, wisdom=10, charisma=10, proficiencies=set(), skill_modifiers={}, classes=set())}}"
      ]
     },
     "execution_count": 42,
     "metadata": {},
     "output_type": "execute_result"
    }
   ],
   "source": [
    "rd.__dict__"
   ]
  },
  {
   "cell_type": "code",
   "execution_count": 43,
   "metadata": {},
   "outputs": [
    {
     "ename": "SyntaxError",
     "evalue": "invalid syntax (<ipython-input-43-8a0a9415dabf>, line 1)",
     "output_type": "error",
     "traceback": [
      "\u001b[1;36m  File \u001b[1;32m\"<ipython-input-43-8a0a9415dabf>\"\u001b[1;36m, line \u001b[1;32m1\u001b[0m\n\u001b[1;33m    {'owners': {'thoros': ['FrenchyRaoul'], 'dolfur': ['FrenchyRaoul'], 'man': [<User id=210926485035286538 name='FrenchyRaoul' discriminator='2070' bot=False>, 'Reconstruct#1610']}, 'characters': {'thoros': {'name': 'Thoros', 'race': 'Human', 'strength': 9, 'dexterity': 12, 'constitution': 16, 'intelligence': 20, 'wisdom': 10, 'charisma': 9, 'proficiencies': {'arcana'}, 'skill_modifiers': {}, 'classes': {Class(name='wizard', level=5)}}, 'dolfur': {'name': 'Dolfur', 'race': 'Dwarf', 'strength': 10, 'dexterity': 10, 'constitution': 10, 'intelligence': 10, 'wisdom': 10, 'charisma': 10, 'proficiencies': set(), 'skill_modifiers': {}, 'classes': set()}, 'man': Character(name='man', race='cat', strength='2', dexterity='3', constitution='4', intelligence='5', wisdom='6', charisma='7', proficiencies=set(), skill_modifiers={}, classes=set())}}\u001b[0m\n\u001b[1;37m                                                                                ^\u001b[0m\n\u001b[1;31mSyntaxError\u001b[0m\u001b[1;31m:\u001b[0m invalid syntax\n"
     ]
    }
   ],
   "source": [
    " {'owners': {'thoros': ['FrenchyRaoul'], 'dolfur': ['FrenchyRaoul'], 'man': [<User id=210926485035286538 name='FrenchyRaoul' discriminator='2070' bot=False>, 'Reconstruct#1610']}, 'characters': {'thoros': {'name': 'Thoros', 'race': 'Human', 'strength': 9, 'dexterity': 12, 'constitution': 16, 'intelligence': 20, 'wisdom': 10, 'charisma': 9, 'proficiencies': {'arcana'}, 'skill_modifiers': {}, 'classes': {Class(name='wizard', level=5)}}, 'dolfur': {'name': 'Dolfur', 'race': 'Dwarf', 'strength': 10, 'dexterity': 10, 'constitution': 10, 'intelligence': 10, 'wisdom': 10, 'charisma': 10, 'proficiencies': set(), 'skill_modifiers': {}, 'classes': set()}, 'man': Character(name='man', race='cat', strength='2', dexterity='3', constitution='4', intelligence='5', wisdom='6', charisma='7', proficiencies=set(), skill_modifiers={}, \n",
    " classes=set())}}"
   ]
  },
  {
   "cell_type": "code",
   "execution_count": null,
   "metadata": {},
   "outputs": [],
   "source": []
  },
  {
   "cell_type": "code",
   "execution_count": null,
   "metadata": {},
   "outputs": [],
   "source": []
  },
  {
   "cell_type": "code",
   "execution_count": null,
   "metadata": {},
   "outputs": [],
   "source": []
  },
  {
   "cell_type": "code",
   "execution_count": null,
   "metadata": {},
   "outputs": [],
   "source": []
  }
 ],
 "metadata": {
  "kernelspec": {
   "display_name": "Python 3",
   "language": "python",
   "name": "python3"
  },
  "language_info": {
   "codemirror_mode": {
    "name": "ipython",
    "version": 3
   },
   "file_extension": ".py",
   "mimetype": "text/x-python",
   "name": "python",
   "nbconvert_exporter": "python",
   "pygments_lexer": "ipython3",
   "version": "3.8.2"
  }
 },
 "nbformat": 4,
 "nbformat_minor": 4
}
