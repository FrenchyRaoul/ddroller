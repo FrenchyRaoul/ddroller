{
 "cells": [
  {
   "cell_type": "code",
   "execution_count": 44,
   "metadata": {},
   "outputs": [],
   "source": [
    "from typing import Set, Dict, Tuple, Union, List\n",
    "from dataclasses import dataclass, field, asdict"
   ]
  },
  {
   "cell_type": "code",
   "execution_count": 45,
   "metadata": {},
   "outputs": [],
   "source": [
    "SKILL = {\"athletics\": \"strength\",\n",
    "          \"acrobatics\": \"dexterity\",\n",
    "          \"sleight_of_hand\": \"dexterity\",\n",
    "          \"stealth\": \"dexterity\",\n",
    "          \"arcana\": \"intelligence\",\n",
    "          \"history\": \"intelligence\",\n",
    "          \"investigation\": \"intelligence\",\n",
    "          \"nature\": \"intelligence\",\n",
    "          \"religion\": \"intelligence\",\n",
    "          \"animal_handling\": \"wisdom\",\n",
    "          \"insignt\": \"wisdom\",\n",
    "          \"medicine\": \"wisdom\",\n",
    "          \"perception\": \"wisdom\",\n",
    "          \"survival\": \"wisdom\",\n",
    "          \"deception\": \"charisma\",\n",
    "          \"intimidation\": \"charisma\",\n",
    "          \"performance\": \"charisma\",\n",
    "          \"persuasion\": \"charisma\"\n",
    "         }"
   ]
  },
  {
   "cell_type": "code",
   "execution_count": 46,
   "metadata": {},
   "outputs": [],
   "source": [
    "@dataclass\n",
    "class Class():\n",
    "    name: str\n",
    "    level: int\n",
    "        \n",
    "    # disallows duplicate classes in a set\n",
    "    def __hash__(self):\n",
    "        return hash(self.name)"
   ]
  },
  {
   "cell_type": "code",
   "execution_count": 47,
   "metadata": {},
   "outputs": [],
   "source": [
    "@dataclass\n",
    "class Character():\n",
    "    name: str\n",
    "    race: str\n",
    "    strength: int\n",
    "    dexterity: int\n",
    "    constitution: int\n",
    "    intelligence: int\n",
    "    wisdom: int\n",
    "    charisma: int\n",
    "    proficiencies: Set[str] = field(default_factory=set)\n",
    "    skill_modifiers: Dict[str, Tuple[str, int]] = field(default_factory=dict)\n",
    "    classes: Set[Class] = field(default_factory=set)\n",
    "        \n",
    "    def __eq__(self, other):\n",
    "        if isinstance(other, Character):\n",
    "            return (self.name == other.name)\n",
    "        return False\n",
    "        \n",
    "    @property\n",
    "    def level(self):\n",
    "        total_level = sum(cls.level for cls in self.classes)\n",
    "        return total_level or 1\n",
    "    \n",
    "    @property\n",
    "    def proficiency(self):\n",
    "        return (self.level + 3) // 4 + 1\n",
    "    \n",
    "    def add_proficiency(self, skill: str):\n",
    "        self.proficiencies.add(skill)\n",
    "        \n",
    "    def add_class(self, cls: Class):\n",
    "        if not isinstance(cls, Class):\n",
    "            raise Exception('can only add Class objects')\n",
    "        self.classes.add(cls)\n",
    "    \n",
    "    def get_modifier(self, skill_or_attribute: str):\n",
    "        if (skill := getattr(self, skill_or_attribute, None)) is not None:\n",
    "            return (skill - 10) // 2\n",
    "        \n",
    "        attr = SKILL.get(skill_or_attribute)\n",
    "        base_mod = (getattr(self, attr) - 10) // 2\n",
    "        \n",
    "        prof_mod = 0 if skill_or_attribute not in self.proficiencies else self.proficiency\n",
    "        \n",
    "        return base_mod + prof_mod"
   ]
  },
  {
   "cell_type": "code",
   "execution_count": 73,
   "metadata": {},
   "outputs": [],
   "source": [
    "thoros = Character(\"Thoros\", \"Human\", 9, 12, 16, 20, 10, 9)"
   ]
  },
  {
   "cell_type": "code",
   "execution_count": 74,
   "metadata": {},
   "outputs": [],
   "source": [
    "thoros.add_proficiency('arcana')\n",
    "thoros.add_proficiency('religion')\n",
    "thoros.add_proficiency('history')\n",
    "thoros.add_proficiency('nature')"
   ]
  },
  {
   "cell_type": "code",
   "execution_count": 75,
   "metadata": {},
   "outputs": [],
   "source": [
    "thoros.add_class(Class('wizard', 5))"
   ]
  },
  {
   "cell_type": "code",
   "execution_count": 76,
   "metadata": {},
   "outputs": [
    {
     "data": {
      "text/plain": [
       "8"
      ]
     },
     "execution_count": 76,
     "metadata": {},
     "output_type": "execute_result"
    }
   ],
   "source": [
    "thoros.get_modifier('arcana')"
   ]
  },
  {
   "cell_type": "code",
   "execution_count": 77,
   "metadata": {},
   "outputs": [
    {
     "data": {
      "text/plain": [
       "Character(name='Thoros', race='Human', strength=9, dexterity=12, constitution=16, intelligence=20, wisdom=10, charisma=9, proficiencies={'nature', 'religion', 'arcana', 'history'}, skill_modifiers={}, classes={Class(name='wizard', level=5)})"
      ]
     },
     "execution_count": 77,
     "metadata": {},
     "output_type": "execute_result"
    }
   ],
   "source": [
    "thoros"
   ]
  },
  {
   "cell_type": "code",
   "execution_count": null,
   "metadata": {},
   "outputs": [],
   "source": []
  },
  {
   "cell_type": "code",
   "execution_count": null,
   "metadata": {},
   "outputs": [],
   "source": []
  },
  {
   "cell_type": "code",
   "execution_count": 78,
   "metadata": {},
   "outputs": [],
   "source": [
    "dolfur = Character(\"Dolfur\", \"Dwarf\", 10, 10, 10, 10, 10, 10)"
   ]
  },
  {
   "cell_type": "code",
   "execution_count": 79,
   "metadata": {},
   "outputs": [],
   "source": [
    "Owner = str\n",
    "CharacterName = str\n",
    "\n",
    "@dataclass\n",
    "class Rolodex():\n",
    "    owners: Dict[CharacterName, Set[Owner]] = field(default_factory=dict)\n",
    "    characters: Dict[CharacterName, Character] = field(default_factory=dict)\n",
    "        \n",
    "    def add_character(self, owners: Union[Owner, List[Owner]], character: Character):\n",
    "        if character.name in self.characters:\n",
    "            raise Exception(\"character is already in rolodex!\")\n",
    "        if len(owners) == 0:\n",
    "            raise Exception(\"someone must own the character\")\n",
    "        if isinstance(owners, str):\n",
    "            owners = [owners]\n",
    "        self.characters[character.name.lower()] = character\n",
    "        self.owners[character.name.lower()] = owners\n",
    "        \n",
    "    def get_character(self, user: str, character_name: str):\n",
    "        character_name = character_name.lower()\n",
    "        if character_name not in self.characters:\n",
    "            raise Exception(\"there is no character by this name\")\n",
    "        if user not in self.owners[character_name]:\n",
    "            raise Exception(\"you cannot access this character\")\n",
    "        return self.characters[character_name]\n",
    "    \n",
    "    def store(self):\n",
    "        with open('characters.txt', 'w') as fout:\n",
    "            fout.write(str(self.__dict__))\n",
    "            \n",
    "    @staticmethod\n",
    "    def load():\n",
    "        with open('characters.txt', 'r') as fin:\n",
    "            rawdata = fin.read().strip()\n",
    "        if rawdata:\n",
    "            data = eval(rawdata)\n",
    "            return Rolodex(**data)\n",
    "        else:\n",
    "            return Rolodex()"
   ]
  },
  {
   "cell_type": "code",
   "execution_count": 80,
   "metadata": {},
   "outputs": [],
   "source": [
    "rd = Rolodex()"
   ]
  },
  {
   "cell_type": "code",
   "execution_count": 81,
   "metadata": {},
   "outputs": [],
   "source": [
    "rd.add_character(['FrenchyRaoul', 'Reconstruct'], thoros)"
   ]
  },
  {
   "cell_type": "code",
   "execution_count": 69,
   "metadata": {},
   "outputs": [],
   "source": [
    "rd.add_character('FrenchyRaoul', dolfur)"
   ]
  },
  {
   "cell_type": "code",
   "execution_count": 82,
   "metadata": {},
   "outputs": [],
   "source": [
    "rd.store()"
   ]
  },
  {
   "cell_type": "code",
   "execution_count": 83,
   "metadata": {},
   "outputs": [
    {
     "ename": "ValueError",
     "evalue": "invalid literal for int() with base 10: 'asdf'",
     "output_type": "error",
     "traceback": [
      "\u001b[1;31m---------------------------------------------------------------------------\u001b[0m",
      "\u001b[1;31mValueError\u001b[0m                                Traceback (most recent call last)",
      "\u001b[1;32m<ipython-input-83-1279a2e292ac>\u001b[0m in \u001b[0;36m<module>\u001b[1;34m\u001b[0m\n\u001b[1;32m----> 1\u001b[1;33m \u001b[0mint\u001b[0m\u001b[1;33m(\u001b[0m\u001b[1;34m'asdf'\u001b[0m\u001b[1;33m)\u001b[0m\u001b[1;33m\u001b[0m\u001b[1;33m\u001b[0m\u001b[0m\n\u001b[0m",
      "\u001b[1;31mValueError\u001b[0m: invalid literal for int() with base 10: 'asdf'"
     ]
    }
   ],
   "source": [
    "int('asdf')"
   ]
  },
  {
   "cell_type": "code",
   "execution_count": 84,
   "metadata": {},
   "outputs": [
    {
     "data": {
      "text/plain": [
       "3"
      ]
     },
     "execution_count": 84,
     "metadata": {},
     "output_type": "execute_result"
    }
   ],
   "source": [
    "int(3.4)"
   ]
  },
  {
   "cell_type": "code",
   "execution_count": 58,
   "metadata": {},
   "outputs": [],
   "source": [
    "d = \"\"\"{'owners': {'thoros': ['FrenchyRaoul'], 'dolfur': ['FrenchyRaoul']},\n",
    " 'characters': {'thoros': Character(name='Thoros', race='Human', strength=9, dexterity=12, constitution=16, intelligence=20, wisdom=10, charisma=9, proficiencies={'arcana'}, skill_modifiers={}, classes={Class(name='wizard', level=5)}),\n",
    "  'dolfur': Character(name='Dolfur', race='Dwarf', strength=10, dexterity=10, constitution=10, intelligence=10, wisdom=10, charisma=10, proficiencies=set(), skill_modifiers={}, classes=set())}}\"\"\""
   ]
  },
  {
   "cell_type": "code",
   "execution_count": 61,
   "metadata": {},
   "outputs": [],
   "source": [
    "r = Rolodex(**eval(d))"
   ]
  },
  {
   "cell_type": "code",
   "execution_count": 64,
   "metadata": {},
   "outputs": [
    {
     "data": {
      "text/plain": [
       "Character(name='Thoros', race='Human', strength=9, dexterity=12, constitution=16, intelligence=20, wisdom=10, charisma=9, proficiencies={'arcana'}, skill_modifiers={}, classes={Class(name='wizard', level=5)})"
      ]
     },
     "execution_count": 64,
     "metadata": {},
     "output_type": "execute_result"
    }
   ],
   "source": [
    "r.get_character('FrenchyRaoul', 'thoros')"
   ]
  },
  {
   "cell_type": "code",
   "execution_count": null,
   "metadata": {},
   "outputs": [],
   "source": []
  },
  {
   "cell_type": "code",
   "execution_count": 85,
   "metadata": {},
   "outputs": [
    {
     "ename": "NameError",
     "evalue": "name 'strength' is not defined",
     "output_type": "error",
     "traceback": [
      "\u001b[1;31m---------------------------------------------------------------------------\u001b[0m",
      "\u001b[1;31mNameError\u001b[0m                                 Traceback (most recent call last)",
      "\u001b[1;32m<ipython-input-85-0da3f12af2a1>\u001b[0m in \u001b[0;36m<module>\u001b[1;34m\u001b[0m\n\u001b[1;32m----> 1\u001b[1;33m \u001b[0mgetattr\u001b[0m\u001b[1;33m(\u001b[0m\u001b[0mthoros\u001b[0m\u001b[1;33m,\u001b[0m \u001b[0mstrength\u001b[0m\u001b[1;33m)\u001b[0m\u001b[1;33m\u001b[0m\u001b[1;33m\u001b[0m\u001b[0m\n\u001b[0m",
      "\u001b[1;31mNameError\u001b[0m: name 'strength' is not defined"
     ]
    }
   ],
   "source": [
    "getattr(thoros, strength)"
   ]
  },
  {
   "cell_type": "code",
   "execution_count": 86,
   "metadata": {},
   "outputs": [],
   "source": [
    "setattr(thoros, 'strength', 5)"
   ]
  },
  {
   "cell_type": "code",
   "execution_count": null,
   "metadata": {},
   "outputs": [],
   "source": []
  },
  {
   "cell_type": "code",
   "execution_count": 38,
   "metadata": {},
   "outputs": [
    {
     "data": {
      "text/plain": [
       "Character(name='Thoros', race='Human', strength=9, dexterity=12, constitution=16, intelligence=20, wisdom=10, charisma=9, proficiencies={'arcana'}, skill_modifiers={}, classes={Class(name='wizard', level=5)})"
      ]
     },
     "execution_count": 38,
     "metadata": {},
     "output_type": "execute_result"
    }
   ],
   "source": [
    "rd.get_character(\"FrenchyRaoul\", \"thoros\")"
   ]
  },
  {
   "cell_type": "code",
   "execution_count": 39,
   "metadata": {},
   "outputs": [],
   "source": [
    "import dataclasses"
   ]
  },
  {
   "cell_type": "code",
   "execution_count": 40,
   "metadata": {},
   "outputs": [
    {
     "data": {
      "text/plain": [
       "\"{'owners': {'thoros': ['FrenchyRaoul'], 'dolfur': ['FrenchyRaoul']}, 'characters': {'thoros': {'name': 'Thoros', 'race': 'Human', 'strength': 9, 'dexterity': 12, 'constitution': 16, 'intelligence': 20, 'wisdom': 10, 'charisma': 9, 'proficiencies': {'arcana'}, 'skill_modifiers': {}, 'classes': {Class(name='wizard', level=5)}}, 'dolfur': {'name': 'Dolfur', 'race': 'Dwarf', 'strength': 10, 'dexterity': 10, 'constitution': 10, 'intelligence': 10, 'wisdom': 10, 'charisma': 10, 'proficiencies': set(), 'skill_modifiers': {}, 'classes': set()}}}\""
      ]
     },
     "execution_count": 40,
     "metadata": {},
     "output_type": "execute_result"
    }
   ],
   "source": [
    "str(asdict(rd))"
   ]
  },
  {
   "cell_type": "code",
   "execution_count": 42,
   "metadata": {},
   "outputs": [
    {
     "data": {
      "text/plain": [
       "{'owners': {'thoros': ['FrenchyRaoul'], 'dolfur': ['FrenchyRaoul']},\n",
       " 'characters': {'thoros': Character(name='Thoros', race='Human', strength=9, dexterity=12, constitution=16, intelligence=20, wisdom=10, charisma=9, proficiencies={'arcana'}, skill_modifiers={}, classes={Class(name='wizard', level=5)}),\n",
       "  'dolfur': Character(name='Dolfur', race='Dwarf', strength=10, dexterity=10, constitution=10, intelligence=10, wisdom=10, charisma=10, proficiencies=set(), skill_modifiers={}, classes=set())}}"
      ]
     },
     "execution_count": 42,
     "metadata": {},
     "output_type": "execute_result"
    }
   ],
   "source": [
    "rd.__dict__"
   ]
  },
  {
   "cell_type": "code",
   "execution_count": 43,
   "metadata": {},
   "outputs": [
    {
     "ename": "SyntaxError",
     "evalue": "invalid syntax (<ipython-input-43-8a0a9415dabf>, line 1)",
     "output_type": "error",
     "traceback": [
      "\u001b[1;36m  File \u001b[1;32m\"<ipython-input-43-8a0a9415dabf>\"\u001b[1;36m, line \u001b[1;32m1\u001b[0m\n\u001b[1;33m    {'owners': {'thoros': ['FrenchyRaoul'], 'dolfur': ['FrenchyRaoul'], 'man': [<User id=210926485035286538 name='FrenchyRaoul' discriminator='2070' bot=False>, 'Reconstruct#1610']}, 'characters': {'thoros': {'name': 'Thoros', 'race': 'Human', 'strength': 9, 'dexterity': 12, 'constitution': 16, 'intelligence': 20, 'wisdom': 10, 'charisma': 9, 'proficiencies': {'arcana'}, 'skill_modifiers': {}, 'classes': {Class(name='wizard', level=5)}}, 'dolfur': {'name': 'Dolfur', 'race': 'Dwarf', 'strength': 10, 'dexterity': 10, 'constitution': 10, 'intelligence': 10, 'wisdom': 10, 'charisma': 10, 'proficiencies': set(), 'skill_modifiers': {}, 'classes': set()}, 'man': Character(name='man', race='cat', strength='2', dexterity='3', constitution='4', intelligence='5', wisdom='6', charisma='7', proficiencies=set(), skill_modifiers={}, classes=set())}}\u001b[0m\n\u001b[1;37m                                                                                ^\u001b[0m\n\u001b[1;31mSyntaxError\u001b[0m\u001b[1;31m:\u001b[0m invalid syntax\n"
     ]
    }
   ],
   "source": [
    " {'owners': {'thoros': ['FrenchyRaoul'], 'dolfur': ['FrenchyRaoul'], 'man': [<User id=210926485035286538 name='FrenchyRaoul' discriminator='2070' bot=False>, 'Reconstruct#1610']}, 'characters': {'thoros': {'name': 'Thoros', 'race': 'Human', 'strength': 9, 'dexterity': 12, 'constitution': 16, 'intelligence': 20, 'wisdom': 10, 'charisma': 9, 'proficiencies': {'arcana'}, 'skill_modifiers': {}, 'classes': {Class(name='wizard', level=5)}}, 'dolfur': {'name': 'Dolfur', 'race': 'Dwarf', 'strength': 10, 'dexterity': 10, 'constitution': 10, 'intelligence': 10, 'wisdom': 10, 'charisma': 10, 'proficiencies': set(), 'skill_modifiers': {}, 'classes': set()}, 'man': Character(name='man', race='cat', strength='2', dexterity='3', constitution='4', intelligence='5', wisdom='6', charisma='7', proficiencies=set(), skill_modifiers={}, \n",
    " classes=set())}}"
   ]
  },
  {
   "cell_type": "code",
   "execution_count": null,
   "metadata": {},
   "outputs": [],
   "source": []
  },
  {
   "cell_type": "code",
   "execution_count": null,
   "metadata": {},
   "outputs": [],
   "source": []
  },
  {
   "cell_type": "code",
   "execution_count": null,
   "metadata": {},
   "outputs": [],
   "source": []
  },
  {
   "cell_type": "code",
   "execution_count": null,
   "metadata": {},
   "outputs": [],
   "source": []
  }
 ],
 "metadata": {
  "kernelspec": {
   "display_name": "Python 3",
   "language": "python",
   "name": "python3"
  },
  "language_info": {
   "codemirror_mode": {
    "name": "ipython",
    "version": 3
   },
   "file_extension": ".py",
   "mimetype": "text/x-python",
   "name": "python",
   "nbconvert_exporter": "python",
   "pygments_lexer": "ipython3",
   "version": "3.8.1"
  }
 },
 "nbformat": 4,
 "nbformat_minor": 2
}
