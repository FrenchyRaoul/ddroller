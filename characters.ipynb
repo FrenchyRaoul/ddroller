{
 "cells": [
  {
   "cell_type": "code",
   "execution_count": 92,
   "metadata": {},
   "outputs": [],
   "source": [
    "from typing import Set, Dict, Tuple, Union\n",
    "from dataclasses import dataclass, field, asdict"
   ]
  },
  {
   "cell_type": "code",
   "execution_count": 67,
   "metadata": {},
   "outputs": [],
   "source": [
    "SKILL = {\"athletics\": \"strength\",\n",
    "          \"acrobatics\": \"dexterity\",\n",
    "          \"sleight_of_hand\": \"dexterity\",\n",
    "          \"stealth\": \"dexterity\",\n",
    "          \"arcana\": \"intelligence\",\n",
    "          \"history\": \"intelligence\",\n",
    "          \"investigation\": \"intelligence\",\n",
    "          \"nature\": \"intelligence\",\n",
    "          \"religion\": \"intelligence\",\n",
    "          \"animal_handling\": \"wisdom\",\n",
    "          \"insignt\": \"wisdom\",\n",
    "          \"medicine\": \"wisdom\",\n",
    "          \"perception\": \"wisdom\",\n",
    "          \"survival\": \"wisdom\",\n",
    "          \"deception\": \"charisma\",\n",
    "          \"intimidation\": \"charisma\",\n",
    "          \"performance\": \"charisma\",\n",
    "          \"persuasion\": \"charisma\"\n",
    "         }"
   ]
  },
  {
   "cell_type": "code",
   "execution_count": 68,
   "metadata": {},
   "outputs": [],
   "source": [
    "@dataclass\n",
    "class Class():\n",
    "    name: str\n",
    "    level: int\n",
    "        \n",
    "    # disallows duplicate classes in a set\n",
    "    def __hash__(self):\n",
    "        return hash(self.name)"
   ]
  },
  {
   "cell_type": "code",
   "execution_count": 81,
   "metadata": {},
   "outputs": [],
   "source": [
    "@dataclass\n",
    "class Character():\n",
    "    name: str\n",
    "    race: str\n",
    "    strength: int\n",
    "    dexterity: int\n",
    "    constitution: int\n",
    "    intelligence: int\n",
    "    wisdom: int\n",
    "    charisma: int\n",
    "    proficiencies: Set[str] = field(default_factory=set)\n",
    "    skill_modifiers: Dict[str, Tuple[str, int]] = field(default_factory=dict)\n",
    "    classes: Set[Class] = field(default_factory=set)\n",
    "        \n",
    "    def __eq__(self, other):\n",
    "        if isinstance(other, Character):\n",
    "            return (self.name == other.name)\n",
    "        return False\n",
    "        \n",
    "    @property\n",
    "    def level(self):\n",
    "        total_level = sum(cls.level for cls in self.classes)\n",
    "        return total_level or 1\n",
    "    \n",
    "    @property\n",
    "    def proficiency(self):\n",
    "        return (self.level + 3) // 4 + 1\n",
    "    \n",
    "    def add_proficiency(self, skill: str):\n",
    "        self.proficiencies.add(skill)\n",
    "        \n",
    "    def add_class(self, cls: Class):\n",
    "        if not isinstance(cls, Class):\n",
    "            raise Exception('can only add Class objects')\n",
    "        self.classes.add(cls)\n",
    "    \n",
    "    def get_modifier(self, skill_or_attribute: str):\n",
    "        if (skill := getattr(self, skill_or_attribute, None)) is not None:\n",
    "            return (skill - 10) // 2\n",
    "        \n",
    "        attr = SKILL.get(skill_or_attribute)\n",
    "        base_mod = (getattr(self, attr) - 10) // 2\n",
    "        \n",
    "        prof_mod = 0 if skill_or_attribute not in self.proficiencies else self.proficiency\n",
    "        \n",
    "        return base_mod + prof_mod"
   ]
  },
  {
   "cell_type": "code",
   "execution_count": 82,
   "metadata": {},
   "outputs": [],
   "source": [
    "thoros = Character(\"Thoros\", \"Human\", 9, 12, 16, 20, 10, 9)\n"
   ]
  },
  {
   "cell_type": "code",
   "execution_count": 83,
   "metadata": {},
   "outputs": [],
   "source": [
    "thoros.add_proficiency('arcana')"
   ]
  },
  {
   "cell_type": "code",
   "execution_count": 84,
   "metadata": {},
   "outputs": [],
   "source": [
    "thoros.add_class(Class('wizard', 5))"
   ]
  },
  {
   "cell_type": "code",
   "execution_count": 64,
   "metadata": {},
   "outputs": [
    {
     "data": {
      "text/plain": [
       "8"
      ]
     },
     "execution_count": 64,
     "metadata": {},
     "output_type": "execute_result"
    }
   ],
   "source": [
    "thoros.get_modifier('arcana')"
   ]
  },
  {
   "cell_type": "code",
   "execution_count": 112,
   "metadata": {},
   "outputs": [],
   "source": [
    "dolfur = Character(\"Dolfur\", \"Dwarf\", 10, 10, 10, 10, 10, 10)"
   ]
  },
  {
   "cell_type": "code",
   "execution_count": 110,
   "metadata": {},
   "outputs": [
    {
     "data": {
      "text/plain": [
       "{'name': 'Thoros',\n",
       " 'race': 'Human',\n",
       " 'strength': 9,\n",
       " 'dexterity': 12,\n",
       " 'constitution': 16,\n",
       " 'intelligence': 20,\n",
       " 'wisdom': 10,\n",
       " 'charisma': 9,\n",
       " 'proficiencies': {'arcana'},\n",
       " 'skill_modifiers': {},\n",
       " 'classes': {Class(name='wizard', level=5)}}"
      ]
     },
     "execution_count": 110,
     "metadata": {},
     "output_type": "execute_result"
    }
   ],
   "source": [
    "d = asdict(thoros)\n",
    "d"
   ]
  },
  {
   "cell_type": "code",
   "execution_count": 111,
   "metadata": {},
   "outputs": [
    {
     "data": {
      "text/plain": [
       "Character(name='Thoros', race='Human', strength=9, dexterity=12, constitution=16, intelligence=20, wisdom=10, charisma=9, proficiencies={'arcana'}, skill_modifiers={}, classes={Class(name='wizard', level=5)})"
      ]
     },
     "execution_count": 111,
     "metadata": {},
     "output_type": "execute_result"
    }
   ],
   "source": [
    "Character(**d)"
   ]
  },
  {
   "cell_type": "code",
   "execution_count": null,
   "metadata": {},
   "outputs": [],
   "source": []
  },
  {
   "cell_type": "code",
   "execution_count": null,
   "metadata": {},
   "outputs": [],
   "source": []
  },
  {
   "cell_type": "code",
   "execution_count": null,
   "metadata": {},
   "outputs": [],
   "source": []
  },
  {
   "cell_type": "code",
   "execution_count": null,
   "metadata": {},
   "outputs": [],
   "source": []
  },
  {
   "cell_type": "code",
   "execution_count": 156,
   "metadata": {},
   "outputs": [],
   "source": [
    "Owner = str\n",
    "CharacterName = str\n",
    "\n",
    "@dataclass\n",
    "class Rolodex():\n",
    "    owners: Dict[CharacterName, Set[Owner]] = field(default_factory=dict)\n",
    "    characters: Dict[CharacterName, Character] = field(default_factory=dict)\n",
    "        \n",
    "    def add_character(self, owners: Union[Owner, List[Owner]], character: Character):\n",
    "        if character.name in self.characters:\n",
    "            raise Exception(\"character is already in rolodex!\")\n",
    "        if len(owners) == 0:\n",
    "            raise Exception(\"someone must own the character\")\n",
    "        if isinstance(owners, str):\n",
    "            owners = [owners]\n",
    "        self.characters[character.name.lower()] = character\n",
    "        self.owners[character.name.lower()] = owners\n",
    "        \n",
    "    def get_character(self, user: str, character_name: str):\n",
    "        character_name = character_name.lower()\n",
    "        if character_name not in self.characters:\n",
    "            raise Exception(\"there is no character by this name\")\n",
    "        if user not in self.owners[character_name]:\n",
    "            raise Exception(\"you cannot access this character\")\n",
    "        return self.characters[character_name]\n",
    "    \n",
    "    def store(self):\n",
    "        with open('characters.txt', 'w') as fout:\n",
    "            fout.write(str(asdict(self)))\n",
    "            \n",
    "    @staticmethod\n",
    "    def load():\n",
    "        with open('characters.txt', 'r') as fin:\n",
    "            rawdata = fin.read()\n",
    "        data = eval(rawdata)\n",
    "        return Rolodex(**data)"
   ]
  },
  {
   "cell_type": "code",
   "execution_count": 142,
   "metadata": {},
   "outputs": [],
   "source": [
    "rd = Rolodex()"
   ]
  },
  {
   "cell_type": "code",
   "execution_count": 143,
   "metadata": {},
   "outputs": [],
   "source": [
    "rd.add_character('FrenchyRaoul', thoros)"
   ]
  },
  {
   "cell_type": "code",
   "execution_count": 144,
   "metadata": {},
   "outputs": [],
   "source": [
    "rd.add_character('FrenchyRaoul', dolfur)"
   ]
  },
  {
   "cell_type": "code",
   "execution_count": 145,
   "metadata": {},
   "outputs": [],
   "source": [
    "rd.store()"
   ]
  },
  {
   "cell_type": "code",
   "execution_count": 157,
   "metadata": {},
   "outputs": [
    {
     "data": {
      "text/plain": [
       "Rolodex(owners={'thoros': ['FrenchyRaoul'], 'dolfur': ['FrenchyRaoul']}, characters={'thoros': {'name': 'Thoros', 'race': 'Human', 'strength': 9, 'dexterity': 12, 'constitution': 16, 'intelligence': 20, 'wisdom': 10, 'charisma': 9, 'proficiencies': {'arcana'}, 'skill_modifiers': {}, 'classes': {Class(name='wizard', level=5)}}, 'dolfur': {'name': 'Dolfur', 'race': 'Dwarf', 'strength': 10, 'dexterity': 10, 'constitution': 10, 'intelligence': 10, 'wisdom': 10, 'charisma': 10, 'proficiencies': set(), 'skill_modifiers': {}, 'classes': set()}})"
      ]
     },
     "execution_count": 157,
     "metadata": {},
     "output_type": "execute_result"
    }
   ],
   "source": [
    "Rolodex.load()"
   ]
  },
  {
   "cell_type": "code",
   "execution_count": null,
   "metadata": {},
   "outputs": [],
   "source": []
  },
  {
   "cell_type": "code",
   "execution_count": 107,
   "metadata": {},
   "outputs": [
    {
     "data": {
      "text/plain": [
       "Character(name='Thoros', race='Human', strength=9, dexterity=12, constitution=16, intelligence=20, wisdom=10, charisma=9, proficiencies={'arcana'}, skill_modifiers={}, classes={Class(name='wizard', level=5)})"
      ]
     },
     "execution_count": 107,
     "metadata": {},
     "output_type": "execute_result"
    }
   ],
   "source": [
    "rd.get_character(\"FrenchyRaoul\", \"thoros\")"
   ]
  },
  {
   "cell_type": "code",
   "execution_count": 109,
   "metadata": {},
   "outputs": [],
   "source": [
    "import dataclasses"
   ]
  },
  {
   "cell_type": "code",
   "execution_count": 120,
   "metadata": {},
   "outputs": [
    {
     "data": {
      "text/plain": [
       "\"{'owners': {'thoros': ['FrenchyRaoul'], 'dolfur': ['FrenchyRaoul']}, 'characters': {'thoros': {'name': 'Thoros', 'race': 'Human', 'strength': 9, 'dexterity': 12, 'constitution': 16, 'intelligence': 20, 'wisdom': 10, 'charisma': 9, 'proficiencies': {'arcana'}, 'skill_modifiers': {}, 'classes': {Class(name='wizard', level=5)}}, 'dolfur': {'name': 'Dolfur', 'race': 'Dwarf', 'strength': 10, 'dexterity': 10, 'constitution': 10, 'intelligence': 10, 'wisdom': 10, 'charisma': 10, 'proficiencies': set(), 'skill_modifiers': {}, 'classes': set()}}}\""
      ]
     },
     "execution_count": 120,
     "metadata": {},
     "output_type": "execute_result"
    }
   ],
   "source": [
    "str(asdict(rd))"
   ]
  },
  {
   "cell_type": "code",
   "execution_count": null,
   "metadata": {},
   "outputs": [],
   "source": []
  }
 ],
 "metadata": {
  "kernelspec": {
   "display_name": "Python 3",
   "language": "python",
   "name": "python3"
  },
  "language_info": {
   "codemirror_mode": {
    "name": "ipython",
    "version": 3
   },
   "file_extension": ".py",
   "mimetype": "text/x-python",
   "name": "python",
   "nbconvert_exporter": "python",
   "pygments_lexer": "ipython3",
   "version": "3.8.1"
  }
 },
 "nbformat": 4,
 "nbformat_minor": 2
}
